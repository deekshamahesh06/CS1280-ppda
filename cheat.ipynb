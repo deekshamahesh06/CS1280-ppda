{
 "cells": [
  {
   "cell_type": "code",
   "execution_count": null,
   "id": "97b11d2c",
   "metadata": {},
   "outputs": [],
   "source": [
    "#1. \n",
    "# Import all the libraries\n",
    "import pandas as pd\n",
    "import numpy as np\n",
    "import matplotlib.pyplot as plt \n",
    "import seaborn as sns"
   ]
  },
  {
   "cell_type": "code",
   "execution_count": null,
   "id": "80ae2121",
   "metadata": {},
   "outputs": [],
   "source": [
    "#2. \n",
    "# load the dataset\n",
    "df= pd.read_csv(r'data.csv')"
   ]
  },
  {
   "cell_type": "code",
   "execution_count": null,
   "id": "358e8dd9",
   "metadata": {},
   "outputs": [],
   "source": [
    "# Check data types\n",
    "print(df.dtypes)\n",
    "\n",
    "# Example: Convert a column to integer\n",
    "# df['column_name'] = df['column_name'].astype(int)"
   ]
  },
  {
   "cell_type": "code",
   "execution_count": null,
   "id": "f858e66d",
   "metadata": {},
   "outputs": [],
   "source": [
    "#3. \n",
    "# at first check the data \n",
    "df.info()\n",
    "df.head()\n",
    "df.tail()\n",
    "df.describe().T"
   ]
  },
  {
   "cell_type": "code",
   "execution_count": null,
   "id": "6c65c7fb",
   "metadata": {},
   "outputs": [
    {
     "data": {
      "text/plain": [
       "\"df.columns = df.columns.str.lower().str.replace(' ', '_')\\n\""
      ]
     },
     "execution_count": 27,
     "metadata": {},
     "output_type": "execute_result"
    }
   ],
   "source": [
    "#6. \n",
    "# Standardize column names\n",
    "df.columns = df.columns.str.lower().str.replace(' ', '_')\n"
   ]
  },
  {
   "cell_type": "code",
   "execution_count": null,
   "id": "c5722ecb",
   "metadata": {},
   "outputs": [],
   "source": [
    "# Check unique values in categorical columns\n",
    "for col in df.select_dtypes(include='object').columns:\n",
    "    print(f\"Unique values in {col}:\\n\", df[col].unique())"
   ]
  },
  {
   "cell_type": "code",
   "execution_count": null,
   "id": "e9087e7e",
   "metadata": {},
   "outputs": [],
   "source": [
    "#4. \n",
    "# checking for null values\n",
    "df.isnull().sum()"
   ]
  },
  {
   "cell_type": "code",
   "execution_count": null,
   "id": "22d96c58",
   "metadata": {},
   "outputs": [
    {
     "data": {
      "text/plain": [
       "\"\\nfor col in df.select_dtypes(include='object').columns:\\n    df[col].fillna(df[col].mode()[0], inplace=True)\\n\\n# Example: Fill missing values with median for numerical columns\\nfor col in df.select_dtypes(include='number').columns:\\n    df[col].fillna(df[col].median(), inplace=True)\\n\""
      ]
     },
     "execution_count": 26,
     "metadata": {},
     "output_type": "execute_result"
    }
   ],
   "source": [
    "#5. \n",
    "# handle the null values\n",
    "# Example: Fill missing values with mode for categorical columns\n",
    "\n",
    "for col in df.select_dtypes(include='object').columns:\n",
    "    df[col].fillna(df[col].mode()[0], inplace=True)\n",
    "\n",
    "# Example: Fill missing values with median for numerical columns\n",
    "for col in df.select_dtypes(include='number').columns:\n",
    "    df[col].fillna(df[col].median(), inplace=True)\n"
   ]
  },
  {
   "cell_type": "code",
   "execution_count": null,
   "id": "09718c53",
   "metadata": {},
   "outputs": [],
   "source": [
    "# Label Encoding for binary categorical variables\n",
    "from sklearn.preprocessing import LabelEncoder\n",
    "\n",
    "label_enc = LabelEncoder()\n",
    "for col in df.select_dtypes(include='object').columns:\n",
    "    df[col] = label_enc.fit_transform(df[col])"
   ]
  },
  {
   "cell_type": "code",
   "execution_count": null,
   "id": "306b108a",
   "metadata": {},
   "outputs": [],
   "source": [
    "# One-hot encoding for categorical variables\n",
    "df = pd.get_dummies(df, columns=df.select_dtypes(include='object').columns, drop_first=True)"
   ]
  },
  {
   "cell_type": "code",
   "execution_count": null,
   "id": "1c069421",
   "metadata": {},
   "outputs": [],
   "source": [
    "#7. \n",
    "# Check for duplicates\n",
    "\n",
    "print(f\"Number of duplicate rows: {df.duplicated().sum()}\")\n",
    "\n",
    "# Remove duplicates\n",
    "df.drop_duplicates(inplace=True)\n",
    "print(f\"Number of duplicate rows after removal: {df.duplicated().sum()}\")"
   ]
  },
  {
   "cell_type": "code",
   "execution_count": null,
   "id": "602b48d7",
   "metadata": {},
   "outputs": [
    {
     "ename": "SyntaxError",
     "evalue": "incomplete input (2332613448.py, line 2)",
     "output_type": "error",
     "traceback": [
      "\u001b[1;36m  Cell \u001b[1;32mIn[21], line 2\u001b[1;36m\u001b[0m\n\u001b[1;33m    '''\u001b[0m\n\u001b[1;37m    ^\u001b[0m\n\u001b[1;31mSyntaxError\u001b[0m\u001b[1;31m:\u001b[0m incomplete input\n"
     ]
    }
   ],
   "source": [
    "#8. \n",
    "#  Check for outliers using boxplot\n",
    "\n",
    "# Example: Boxplot to visualize outliers\n",
    "for col in df.select_dtypes(include='number').columns:\n",
    "    sns.boxplot(data=df, x=col)\n",
    "    plt.title(f'Boxplot of {col}')\n",
    "    plt.show()\n",
    "\n",
    "# Example: Remove outliers using the IQR method\n",
    "for col in df.select_dtypes(include='number').columns:\n",
    "    Q1 = df[col].quantile(0.25)\n",
    "    Q3 = df[col].quantile(0.75)\n",
    "    IQR = Q3 - Q1\n",
    "    df = df[~((df[col] < (Q1 - 1.5 * IQR)) | (df[col] > (Q3 + 1.5 * IQR)))]"
   ]
  },
  {
   "cell_type": "code",
   "execution_count": null,
   "id": "b33241e5",
   "metadata": {},
   "outputs": [],
   "source": [
    "# Pair plot for numerical columns\n",
    "sns.pairplot(df.select_dtypes(include='number'))\n",
    "plt.show()"
   ]
  },
  {
   "cell_type": "code",
   "execution_count": null,
   "id": "89a403a0",
   "metadata": {},
   "outputs": [],
   "source": [
    "#9. \n",
    "# Select only numerical columns\n",
    "numeric_df = df.select_dtypes(include='number')\n",
    "\n",
    "# Check for multicollinearity using a heatmap\n",
    "sns.heatmap(numeric_df.corr(), annot=True, cmap='coolwarm', fmt=\".2f\")\n",
    "plt.title('Correlation Matrix')\n",
    "plt.show()"
   ]
  },
  {
   "cell_type": "code",
   "execution_count": null,
   "id": "dd19af35",
   "metadata": {},
   "outputs": [],
   "source": [
    "# Target varaible should be numeric \n",
    "# Distribution of the target variable\n",
    "sns.countplot(data=df, x='leaveornot')\n",
    "plt.title('Distribution of Target Variable')\n",
    "plt.show()\n",
    "\n",
    "# Relationship between target and other features\n",
    "for col in ['age', 'joiningyear']:\n",
    "    sns.boxplot(data=df, x='leaveornot', y=col)\n",
    "    plt.title(f'Relationship between {col} and Target')\n",
    "    plt.show()"
   ]
  },
  {
   "cell_type": "code",
   "execution_count": null,
   "id": "eed53b00",
   "metadata": {},
   "outputs": [],
   "source": [
    "#change x axis\n",
    "sns.set(rc={'figure.figsize':(12,8)})\n",
    "ax = sns.countplot(data = df, x = 'Pclass', color='green', edgecolor='black')\n",
    "\n",
    "for bars in ax.containers:\n",
    "    ax.bar_label(bars)"
   ]
  },
  {
   "cell_type": "code",
   "execution_count": null,
   "id": "2ad53097",
   "metadata": {},
   "outputs": [],
   "source": [
    "# Correlation with the target variable\n",
    "correlation_with_target = df.corr()['leaveornot'].sort_values(ascending=False)\n",
    "print(\"Correlation with Target Variable:\\n\", correlation_with_target)"
   ]
  },
  {
   "cell_type": "code",
   "execution_count": null,
   "id": "99e27c9d",
   "metadata": {},
   "outputs": [],
   "source": [
    "# Check class distribution\n",
    "sns.countplot(data=df, x='leaveornot')\n",
    "plt.title('Class Distribution')\n",
    "plt.show()"
   ]
  },
  {
   "cell_type": "code",
   "execution_count": null,
   "id": "5b84a73c",
   "metadata": {},
   "outputs": [],
   "source": [
    "#Grouped Analysis\n",
    "# Grouped statistics for numerical features\n",
    "print(\"Grouped Statistics by Leave or Not:\")\n",
    "print(df.groupby('leaveornot')[['age', 'salary']].mean())\n",
    "\n",
    "# Bar plot for average salary by leaveornot\n",
    "df.groupby('leaveornot')['salary'].mean().plot(kind='bar', color='skyblue')\n",
    "plt.title('Average Salary by Leave or Not')\n",
    "plt.xlabel('Leave or Not')\n",
    "plt.ylabel('Average Salary')\n",
    "plt.show()"
   ]
  },
  {
   "cell_type": "code",
   "execution_count": null,
   "id": "a519df82",
   "metadata": {},
   "outputs": [],
   "source": [
    "#Advanced Visualizations\n",
    "# Violin plot for age distribution by leaveornot\n",
    "sns.violinplot(data=df, x='leaveornot', y='age')\n",
    "plt.title('Age Distribution by Leave or Not')\n",
    "plt.show()\n",
    "\n",
    "# Heatmap for categorical variables\n",
    "sns.heatmap(pd.crosstab(df['department'], df['leaveornot']), annot=True, cmap='Blues', fmt='d')\n",
    "plt.title('Department vs Leave or Not')\n",
    "plt.show()"
   ]
  },
  {
   "cell_type": "code",
   "execution_count": null,
   "id": "33b9e2f8",
   "metadata": {},
   "outputs": [],
   "source": [
    "#Feature Importance\n",
    "from sklearn.ensemble import RandomForestRegressor\n",
    "\n",
    "# Feature importance using Random Forest Regressor\n",
    "X = df.drop('Fare', axis=1)\n",
    "y = df['Fare']\n",
    "\n",
    "model = RandomForestRegressor()\n",
    "model.fit(X, y)\n",
    "\n",
    "# Plot feature importance\n",
    "importance = pd.Series(model.feature_importances_, index=X.columns)\n",
    "importance.sort_values(ascending=False).plot(kind='bar', figsize=(10, 6))\n",
    "plt.title('Feature Importance')\n",
    "plt.show()"
   ]
  },
  {
   "cell_type": "code",
   "execution_count": null,
   "id": "02232ca5",
   "metadata": {},
   "outputs": [],
   "source": [
    "# Check skewness of numerical columns\n",
    "from scipy.stats import skew\n",
    "\n",
    "for col in df.select_dtypes(include='number').columns:\n",
    "    print(f\"Skewness of {col}: {skew(df[col])}\")"
   ]
  },
  {
   "cell_type": "code",
   "execution_count": null,
   "id": "f836a414",
   "metadata": {},
   "outputs": [],
   "source": [
    "#Feature Scaling\n",
    "from sklearn.preprocessing import MinMaxScaler\n",
    "\n",
    "# Scale numerical columns\n",
    "scaler = MinMaxScaler()\n",
    "df[df.select_dtypes(include='number').columns] = scaler.fit_transform(df.select_dtypes(include='number'))"
   ]
  },
  {
   "cell_type": "code",
   "execution_count": null,
   "id": "26453ebd",
   "metadata": {},
   "outputs": [],
   "source": [
    "#Actual Columns and rows\n",
    "#Code for a Line Graph\n",
    "import matplotlib.pyplot as plt\n",
    "\n",
    "# Example: Line graph for trends over time\n",
    "# Replace 'year' and 'sales' with your actual column names\n",
    "x = df['year']  # X-axis (e.g., years)\n",
    "y = df['sales']  # Y-axis (e.g., sales data)\n",
    "\n",
    "plt.plot(x, y, marker='o', linestyle='-', color='b', label='Sales Trend')\n",
    "plt.title('Sales Trend Over Years')\n",
    "plt.xlabel('Year')\n",
    "plt.ylabel('Sales')\n",
    "plt.legend()\n",
    "plt.grid(True)\n",
    "plt.show()"
   ]
  },
  {
   "cell_type": "code",
   "execution_count": null,
   "id": "27a5b881",
   "metadata": {},
   "outputs": [],
   "source": [
    "#10. \n",
    "# VALIDATION AND ASSERTIONS\n",
    "# -----------------------------------------------\n",
    "# Replace inf values and drop NaNs\n",
    "\n",
    "df.replace([np.inf, -np.inf], np.nan, inplace=True)\n",
    "df.dropna(inplace=True)"
   ]
  },
  {
   "cell_type": "code",
   "execution_count": null,
   "id": "a436c33c",
   "metadata": {},
   "outputs": [],
   "source": [
    "#Visualize Distributions Using Histograms\n",
    "import matplotlib.pyplot as plt\n",
    "\n",
    "# Plot histograms for numerical columns\n",
    "for col in df.select_dtypes(include='number').columns:\n",
    "    plt.hist(df[col], bins=20, alpha=0.7, edgecolor='black')\n",
    "    plt.title(f\"Histogram of {col}\")\n",
    "    plt.xlabel(col)\n",
    "    plt.ylabel(\"Frequency\")\n",
    "    plt.show()"
   ]
  },
  {
   "cell_type": "code",
   "execution_count": null,
   "id": "d924fc32",
   "metadata": {},
   "outputs": [],
   "source": [
    "#11. \n",
    "# Histogram\n",
    "# Histograms for numerical columns\n",
    "df.hist(bins=20, figsize=(10, 8))\n",
    "plt.tight_layout()\n",
    "plt.show()"
   ]
  },
  {
   "cell_type": "code",
   "execution_count": null,
   "id": "112410c3",
   "metadata": {},
   "outputs": [],
   "source": [
    "# Final validation\n",
    "print(\"Final dataset shape:\", df.shape)\n",
    "print(\"Missing values:\\n\", df.isnull().sum())\n",
    "print(\"Duplicate rows:\", df.duplicated().sum())"
   ]
  }
 ],
 "metadata": {
  "kernelspec": {
   "display_name": "base",
   "language": "python",
   "name": "python3"
  },
  "language_info": {
   "codemirror_mode": {
    "name": "ipython",
    "version": 3
   },
   "file_extension": ".py",
   "mimetype": "text/x-python",
   "name": "python",
   "nbconvert_exporter": "python",
   "pygments_lexer": "ipython3",
   "version": "3.12.7"
  }
 },
 "nbformat": 4,
 "nbformat_minor": 5
}
